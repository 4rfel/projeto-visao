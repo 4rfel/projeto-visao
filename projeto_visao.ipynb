{
  "nbformat": 4,
  "nbformat_minor": 0,
  "metadata": {
    "colab": {
      "name": "projeto-visao.ipynb",
      "provenance": [],
      "collapsed_sections": [],
      "authorship_tag": "ABX9TyMT42a9vv0gM3ChWbz9AIJ0"
    },
    "kernelspec": {
      "name": "python3",
      "display_name": "Python 3"
    }
  },
  "cells": [
    {
      "cell_type": "code",
      "metadata": {
        "id": "lUrtl_8DkJif"
      },
      "source": [
        "import numpy as np \n",
        "import cv2\n",
        "import dlib\n",
        "from google.colab.patches import cv2_imshow\n",
        "from IPython.display import HTML, Audio\n",
        "from google.colab.output import eval_js\n",
        "from base64 import b64decode\n",
        "import io\n",
        "from PIL import Image"
      ],
      "execution_count": 55,
      "outputs": []
    },
    {
      "cell_type": "code",
      "metadata": {
        "id": "AxBOCMIXnDZt"
      },
      "source": [
        "VIDEO_HTML = \"\"\"\n",
        "<video autoplay\n",
        " width=%d height=%d style='cursor: pointer;'></video>\n",
        "<script>\n",
        "\n",
        "var video = document.querySelector('video')\n",
        "\n",
        "navigator.mediaDevices.getUserMedia({ video: true })\n",
        "  .then(stream=> video.srcObject = stream)\n",
        "  \n",
        "var data = new Promise(resolve=>{\n",
        "  video.onclick = ()=>{\n",
        "    var canvas = document.createElement('canvas')\n",
        "    var [w,h] =[video.offsetWidth, video.offsetHeight]\n",
        "    canvas.width = w\n",
        "    canvas.height = h\n",
        "    canvas.getContext('2d')\n",
        "          .drawImage(video, 0, 0, w, h)\n",
        "    video.srcObject.getVideoTracks()[0].stop()\n",
        "    video.replaceWith(canvas)\n",
        "    resolve(canvas.toDataURL('image/jpeg', %f))\n",
        "  }\n",
        "})\n",
        "</script>\n",
        "\"\"\"\n",
        "def take_photo(filename='photo.jpg', quality=0.8, size=(800,600)):\n",
        "  print(\"click on image to take a photo\")\n",
        "  display(HTML(VIDEO_HTML % (size[0],size[1],quality)))\n",
        "  data = eval_js(\"data\")\n",
        "  binary = b64decode(data.split(',')[1])\n",
        "  f = io.BytesIO(binary)\n",
        "  return np.asarray(Image.open(f))\n",
        "\n",
        "img = take_photo()\n",
        "img = cv2.cvtColor(img, cv2.COLOR_BGR2RGB)"
      ],
      "execution_count": null,
      "outputs": []
    },
    {
      "cell_type": "code",
      "metadata": {
        "id": "8--aZylRkQBE"
      },
      "source": [
        "def add_hat(img_or, hat_img):\n",
        "\n",
        "    img = np.copy(img_or)\n",
        "\n",
        "    r,g,b,a = cv2.split(hat_img) \n",
        "    rgb_hat = cv2.merge((r,g,b))\n",
        "\n",
        "    predictor_path = \"shape_predictor_5_face_landmarks.dat\"\n",
        "    predictor = dlib.shape_predictor(predictor_path)  \n",
        "\n",
        "    detector = dlib.get_frontal_face_detector()\n",
        "\n",
        "    dets = detector(img, 1)\n",
        "\n",
        "    if len(dets)>0:  \n",
        "        for d in dets:\n",
        "            x, y, w, h = d.left(),d.top(), d.right()-d.left(), d.bottom()-d.top()\n",
        "            shape = predictor(img, d)\n",
        "            point1 = shape.part(0)\n",
        "            point2 = shape.part(2)\n",
        "            eyes_center = ((point1.x+point2.x)/2, (point1.y+point2.y)/2)\n",
        "            scaling_factor = (w / rgb_hat.shape[1]) * 1.5\n",
        "            resized_hat_w = int(rgb_hat.shape[1] * scaling_factor)\n",
        "            resized_hat_h = int(rgb_hat.shape[0] * scaling_factor)\n",
        "\n",
        "            resized_hat = cv2.resize(rgb_hat,(resized_hat_w,resized_hat_h))\n",
        "            if resized_hat_h > y:\n",
        "                resized_hat_h = y-1\n",
        "            mask = cv2.resize(a, (resized_hat_w,resized_hat_h))\n",
        "            mask_inv =  cv2.bitwise_not(mask)\n",
        "            start_y = y - resized_hat_h\n",
        "            end_y = y\n",
        "            start_x = round(eyes_center[0] - resized_hat_w/2)\n",
        "            end_x = round(eyes_center[0] + resized_hat_w/2)\n",
        "            bg_roi = img[start_y: end_y, start_x: end_x]\n",
        "            bg_roi = bg_roi.astype(float)\n",
        "            mask_inv = cv2.merge((mask_inv, mask_inv, mask_inv))\n",
        "            alpha = mask_inv.astype(float)/255\n",
        "            alpha = cv2.resize(alpha,(bg_roi.shape[1],bg_roi.shape[0]))\n",
        "            bg = cv2.multiply(alpha, bg_roi)\n",
        "            bg = bg.astype('uint8')\n",
        "            hat = cv2.bitwise_and(resized_hat,resized_hat,mask = mask)\n",
        "            hat = cv2.resize(hat,(bg_roi.shape[1], bg_roi.shape[0]))\n",
        "            add_hat = cv2.add(bg,hat)\n",
        "            \n",
        "            img[start_y:end_y, start_x: end_x] = add_hat\n",
        "\n",
        "            return img"
      ],
      "execution_count": 160,
      "outputs": []
    },
    {
      "cell_type": "code",
      "metadata": {
        "id": "p5bmNYz6keEG"
      },
      "source": [
        "hat_img = cv2.imread(\"hat_cowboy.png\",-1)\n",
        "\n",
        "output = add_hat(img,hat_img)\n",
        "\n",
        "cv2_imshow(output)    "
      ],
      "execution_count": null,
      "outputs": []
    },
    {
      "cell_type": "code",
      "metadata": {
        "id": "v2Z9-1XO9zz2"
      },
      "source": [
        ""
      ],
      "execution_count": null,
      "outputs": []
    }
  ]
}